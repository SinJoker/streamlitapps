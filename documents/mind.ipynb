{
 "cells": [
  {
   "cell_type": "markdown",
   "id": "4cd28955",
   "metadata": {},
   "source": [
    "```mermaid\n",
    "flowchart TD\n",
    "    A(工艺及介质参数)-->D(凝固传热计算)\n",
    "    B(钢种热物性参数及计算条件)-->D(凝固传热计算)\n",
    "    C(设备参数)-->D(凝固传热计算)\n",
    "    D-->E(连铸坯温度场)\n",
    "```"
   ]
  },
  {
   "cell_type": "markdown",
   "id": "fa68b4ba",
   "metadata": {},
   "source": [
    "title：连铸区温度场模拟计算\n",
    "## 钢物性参数 tab\n",
    "    col1 20%\n",
    "        - 浇筑钢种 selectbox\n",
    "        - 浇筑温度 number_input\n",
    "        - 液相线温度 number_input\n",
    "        - 固相线温度 number_input\n",
    "        - 热导率 number_input\n",
    "        - 比热容 number_input\n",
    "        - 密度 number_input\n",
    "    col2 80%\n",
    "        - 各项参数的显示\n",
    "## 工艺及设备参数 tab\n",
    "    \n",
    "    - col1 15% 结晶器\n",
    "      - 拉坯速度 number_input\n",
    "      - 热流密度修正系数 number_input\n",
    "      - 断面宽度 number_input\n",
    "      - 断面厚度 number_input\n",
    "      - 钢液高度 number_input\n",
    "    - col2 15% 二冷区\n",
    "      - 分区数目 number_input\n",
    "        - 每个分区的冷却水量\n",
    "        - 每个分区的冷却水温度\n",
    "    - col3 70% 相关参数显示\n",
    "      - 二冷区结构图形\n",
    "      - 各项冷却水的水量与冷却水温度\n",
    "## 计算参数 tab\n",
    "    - col1 15% 计算设置\n",
    "      - 空间步长\n",
    "      - 时间步长\n",
    "      - 初始化\n",
    "      - 计算\n",
    "    - col2 85% 结果显示\n",
    "      - 结晶器进出口热图\n",
    "      - 各二冷区分区热图"
   ]
  }
 ],
 "metadata": {
  "language_info": {
   "name": "python"
  }
 },
 "nbformat": 4,
 "nbformat_minor": 5
}
