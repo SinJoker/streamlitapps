{
 "cells": [
  {
   "cell_type": "markdown",
   "id": "4cd28955",
   "metadata": {},
   "source": [
    "```mermaid\n",
    "flowchart TD\n",
    "    A(工艺及介质参数)-->D(凝固传热计算)\n",
    "    B(钢种热物性参数及计算条件)-->D(凝固传热计算)\n",
    "    C(设备参数)-->D(凝固传热计算)\n",
    "    D-->E(连铸坯温度场)\n",
    "```"
   ]
  }
 ],
 "metadata": {
  "language_info": {
   "name": "python"
  }
 },
 "nbformat": 4,
 "nbformat_minor": 5
}
