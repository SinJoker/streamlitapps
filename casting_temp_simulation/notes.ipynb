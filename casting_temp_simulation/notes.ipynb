{
 "cells": [
  {
   "cell_type": "markdown",
   "id": "4cd28955",
   "metadata": {},
   "source": [
    "```mermaid\n",
    "flowchart TD\n",
    "    A(工艺及介质参数)-->D(凝固传热计算)\n",
    "    B(钢种热物性参数及计算条件)-->D(凝固传热计算)\n",
    "    C(设备参数)-->D(凝固传热计算)\n",
    "    D-->E(连铸坯温度场)\n",
    "```"
   ]
  },
  {
   "cell_type": "markdown",
   "id": "fa68b4ba",
   "metadata": {},
   "source": [
    "title：连铸区温度场模拟计算\n",
    "## 钢物性参数 tab\n",
    "    col1 20%\n",
    "        - 浇筑钢种 selectbox\n",
    "        - 浇筑温度 number_input\n",
    "        - 液相线温度 number_input\n",
    "        - 固相线温度 number_input\n",
    "        - 热导率 number_input\n",
    "        - 比热容 number_input\n",
    "        - 密度 number_input\n",
    "    col2 80%\n",
    "        - 各项参数的显示\n",
    "## 工艺及设备参数 tab\n",
    "    \n",
    "    - col1 15% 结晶器\n",
    "      - 拉坯速度 number_input\n",
    "      - 热流密度修正系数 number_input\n",
    "      - 断面宽度 number_input\n",
    "      - 断面厚度 number_input\n",
    "      - 钢液高度 number_input\n",
    "    - col2 15% 二冷区\n",
    "      - 分区数目 number_input\n",
    "        - 每个分区的冷却水量\n",
    "        - 每个分区的冷却水温度\n",
    "    - col3 70% 相关参数显示\n",
    "      - 二冷区结构图形\n",
    "      - 各项冷却水的水量与冷却水温度\n",
    "## 计算参数 tab\n",
    "    - col1 15% 计算设置\n",
    "      - 空间步长\n",
    "      - 时间步长\n",
    "      - 初始化\n",
    "      - 计算\n",
    "    - col2 85% 结果显示\n",
    "      - 结晶器进出口热图\n",
    "      - 各二冷区分区热图"
   ]
  },
  {
   "cell_type": "markdown",
   "id": "cbde2c67",
   "metadata": {},
   "source": [
    "# 控制方程的理解与推导\n",
    "## 核心控制方程\n",
    "$$\\rho c_{p} \\frac{\\partial T}{\\partial t}=\\frac{\\partial }{\\partial x}(\\lambda \\frac{\\partial T}{\\partial x})+\\frac{\\partial }{\\partial y}(\\lambda \\frac{\\partial T}{\\partial y})+\\frac{\\partial }{\\partial z}(\\lambda \\frac{\\partial T}{\\partial z})+\\dot{q}$$\n",
    "## 假设\n",
    "- 拉坯方向的传热可以忽略，$\\frac{\\partial T}{\\partial z}=0$，只考虑二维情况.\n",
    "- 内热源作等效比热容处理，$\\dot{q}=0$.\n",
    "- 冷却水温度与环境温度忽略不计.\n",
    "- 模拟1/4边界\n",
    "## 简化后的控制方程及离散化\n",
    "$$\\rho \\frac{\\partial H}{\\partial t}=\\frac{\\partial }{\\partial x}(\\lambda \\frac{\\partial T}{\\partial x})+\\frac{\\partial }{\\partial y}(\\lambda \\frac{\\partial T}{\\partial y})$$\n",
    "### 方程左侧离散化\n",
    "$$(\\rho \\frac{\\partial H}{\\partial t})_{i}^{p}=\\rho\\frac{H_{i}^{p+1}-H_{i}^{p}}{\\Delta t}$$\n",
    "### 方程右侧离散化\n",
    "$$(\\frac{\\partial }{\\partial x}(\\lambda \\frac{\\partial T}{\\partial x}))_{i}^{p}=\\frac{T_{i+1}^{p}-2T_{i}^{p}+T_{i-1}^{p}}{(\\Delta x)^{2}}$$\n",
    "$$(\\frac{\\partial }{\\partial x}(\\lambda \\frac{\\partial T}{\\partial x}))_{j}^{p}=\\frac{T_{j+1}^{p}-2T_{j}^{p}+T_{j-1}^{p}}{(\\Delta y)^{2}}$$\n",
    "最终简化后的离散方程可化为:\n",
    "$$H_{i}^{p+1}=H_{i}^{p}+\\frac{\\lambda\\Delta t}{\\rho(\\Delta x)^{2}}(T_{i+1}^{p}-2T_{i}^{p}+T_{i-1}^{p})+\\frac{\\lambda\\Delta t}{\\rho(\\Delta y)^{2}}(T_{j+1}^{p}-2T_{j}^{p}+T_{j-1}^{p})$$\n",
    "## 边界条件\n",
    "1.当x=0或者y=0时,为绝热边界条件.即$T_{i-1}^{p}=T_{i}^{p}$或$T_{j-1}^{p}=T_{j}^{p}$,离散方程为:\n",
    "### 左边界\n",
    "$$H_{i}^{p+1}=H_{i}^{p}+\\frac{\\lambda\\Delta t}{\\rho(\\Delta x)^{2}}(T_{i+1}^{p}-T_{i}^{p})+\\frac{\\lambda\\Delta t}{\\rho(\\Delta y)^{2}}(T_{j+1}^{p}-2T_{j}^{p}+T_{j-1}^{p})$$\n",
    "### 下边界\n",
    "$$H_{i}^{p+1}=H_{i}^{p}+\\frac{\\lambda\\Delta t}{\\rho(\\Delta x)^{2}}(T_{i+1}^{p}-2T_{i}^{p}+T_{i-1}^{p})+\\frac{\\lambda\\Delta t}{\\rho(\\Delta y)^{2}}(T_{j+1}^{p}-T_{j}^{p})$$\n",
    "### 右边界\n",
    "x=width/2，y!=thickness/2，对流边界条件,需要在方程右边加上对流项$(-\\frac{2h\\Delta t(T_{i}^{p}-T_{f}^{p})}{\\rho\\Delta x})$,没有了i+1项\n",
    "$$H_{i}^{p+1}=H_{i}^{p}-\\frac{2h\\Delta t}{\\rho\\Delta x}(T_{i}^{p}-T_{f}^{p})+\\frac{\\lambda\\Delta t}{\\rho(\\Delta y)^{2}}(T_{j+1}^{p}-2T_{j}^{p}+T_{j-1}^{p})$$\n",
    "### 上边界\n",
    "x!=width/2,y=thickness/2，对流边界条件需要在方程右边加上对流项$(-\\frac{2h\\Delta t(T_{j}^{p}-T_{f}^{p})}{\\rho\\Delta y})$,没有了j+1项\n",
    "$$H_{j}^{p+1}=H_{j}^{p}-\\frac{2h\\Delta t}{\\rho\\Delta y}(T_{j}^{p}-T_{f}^{p})+\\frac{\\lambda\\Delta t}{\\rho(\\Delta x)^{2}}(T_{i+1}^{p}-2T_{i}^{p}+T_{i-1}^{p})$$\n",
    "### 右上角角点\n",
    "x=width/2，y=thickness/2，没有了j+1和i+1项，添加两个对流项\n",
    "$$H_{i,j}^{p+1}=H_{i,j}^{p}-\\frac{2\\lambda\\Delta t}{\\rho\\Delta y}(T_{i,j-1}^{p}-T_{i,j}^{p})-\\frac{2\\lambda\\Delta t}{\\rho\\Delta x}(T_{i-1,j}^{p}-T_{i,j}^{p})+\\frac{\\lambda\\Delta t}{\\rho(\\Delta x)^{2}}(T_{i+1,j}^{p}-2T_{i,j}^{p}+T_{i-1,j}^{p})+\\frac{\\lambda\\Delta t}{\\rho(\\Delta y)^{2}}(T_{i,j+1}^{p}-2T_{i,j}^{p}+T_{i,j-1}^{p})$$\n",
    "### 说明\n",
    "- $h(T_{i,j}-T_{f})可简化为热流密度\\phi $"
   ]
  }
 ],
 "metadata": {
  "language_info": {
   "name": "python"
  }
 },
 "nbformat": 4,
 "nbformat_minor": 5
}
